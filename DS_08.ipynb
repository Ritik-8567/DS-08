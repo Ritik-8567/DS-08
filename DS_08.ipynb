{
  "cells": [
    {
      "cell_type": "markdown",
      "metadata": {
        "id": "view-in-github",
        "colab_type": "text"
      },
      "source": [
        "<a href=\"https://colab.research.google.com/github/Ritik-8567/DS-08/blob/main/DS_08.ipynb\" target=\"_parent\"><img src=\"https://colab.research.google.com/assets/colab-badge.svg\" alt=\"Open In Colab\"/></a>"
      ]
    },
    {
      "cell_type": "code",
      "execution_count": null,
      "id": "6103eee2",
      "metadata": {
        "id": "6103eee2"
      },
      "outputs": [],
      "source": [
        "import numpy as np\n",
        "import pandas as pd\n",
        "from sklearn.preprocessing import StandardScaler\n",
        "from sklearn.linear_model import LogisticRegression\n",
        "from sklearn.metrics import confusion_matrix,accuracy_score\n",
        "from sklearn.tree import DecisionTreeClassifier"
      ]
    },
    {
      "cell_type": "code",
      "execution_count": null,
      "id": "dc6c5394",
      "metadata": {
        "id": "dc6c5394"
      },
      "outputs": [],
      "source": [
        "df=pd.read_csv('seattle-weather.csv')"
      ]
    },
    {
      "cell_type": "code",
      "execution_count": null,
      "id": "5dae661f",
      "metadata": {
        "id": "5dae661f",
        "outputId": "ec57661d-2442-4b10-ee6c-de49b7dc96de"
      },
      "outputs": [
        {
          "data": {
            "text/html": [
              "<div>\n",
              "<style scoped>\n",
              "    .dataframe tbody tr th:only-of-type {\n",
              "        vertical-align: middle;\n",
              "    }\n",
              "\n",
              "    .dataframe tbody tr th {\n",
              "        vertical-align: top;\n",
              "    }\n",
              "\n",
              "    .dataframe thead th {\n",
              "        text-align: right;\n",
              "    }\n",
              "</style>\n",
              "<table border=\"1\" class=\"dataframe\">\n",
              "  <thead>\n",
              "    <tr style=\"text-align: right;\">\n",
              "      <th></th>\n",
              "      <th>date</th>\n",
              "      <th>precipitation</th>\n",
              "      <th>temp_max</th>\n",
              "      <th>temp_min</th>\n",
              "      <th>wind</th>\n",
              "      <th>weather</th>\n",
              "    </tr>\n",
              "  </thead>\n",
              "  <tbody>\n",
              "    <tr>\n",
              "      <th>0</th>\n",
              "      <td>2012-01-01</td>\n",
              "      <td>0.0</td>\n",
              "      <td>12.8</td>\n",
              "      <td>5.0</td>\n",
              "      <td>4.7</td>\n",
              "      <td>drizzle</td>\n",
              "    </tr>\n",
              "    <tr>\n",
              "      <th>1</th>\n",
              "      <td>2012-01-02</td>\n",
              "      <td>10.9</td>\n",
              "      <td>10.6</td>\n",
              "      <td>2.8</td>\n",
              "      <td>4.5</td>\n",
              "      <td>rain</td>\n",
              "    </tr>\n",
              "    <tr>\n",
              "      <th>2</th>\n",
              "      <td>2012-01-03</td>\n",
              "      <td>0.8</td>\n",
              "      <td>11.7</td>\n",
              "      <td>7.2</td>\n",
              "      <td>2.3</td>\n",
              "      <td>rain</td>\n",
              "    </tr>\n",
              "    <tr>\n",
              "      <th>3</th>\n",
              "      <td>2012-01-04</td>\n",
              "      <td>20.3</td>\n",
              "      <td>12.2</td>\n",
              "      <td>5.6</td>\n",
              "      <td>4.7</td>\n",
              "      <td>rain</td>\n",
              "    </tr>\n",
              "    <tr>\n",
              "      <th>4</th>\n",
              "      <td>2012-01-05</td>\n",
              "      <td>1.3</td>\n",
              "      <td>8.9</td>\n",
              "      <td>2.8</td>\n",
              "      <td>6.1</td>\n",
              "      <td>rain</td>\n",
              "    </tr>\n",
              "  </tbody>\n",
              "</table>\n",
              "</div>"
            ],
            "text/plain": [
              "         date  precipitation  temp_max  temp_min  wind  weather\n",
              "0  2012-01-01            0.0      12.8       5.0   4.7  drizzle\n",
              "1  2012-01-02           10.9      10.6       2.8   4.5     rain\n",
              "2  2012-01-03            0.8      11.7       7.2   2.3     rain\n",
              "3  2012-01-04           20.3      12.2       5.6   4.7     rain\n",
              "4  2012-01-05            1.3       8.9       2.8   6.1     rain"
            ]
          },
          "execution_count": 3,
          "metadata": {},
          "output_type": "execute_result"
        }
      ],
      "source": [
        "df.head()"
      ]
    },
    {
      "cell_type": "code",
      "execution_count": null,
      "id": "e4d23785",
      "metadata": {
        "id": "e4d23785",
        "outputId": "bc492cfb-081a-49d5-dac3-e946859b3609"
      },
      "outputs": [
        {
          "data": {
            "text/html": [
              "<div>\n",
              "<style scoped>\n",
              "    .dataframe tbody tr th:only-of-type {\n",
              "        vertical-align: middle;\n",
              "    }\n",
              "\n",
              "    .dataframe tbody tr th {\n",
              "        vertical-align: top;\n",
              "    }\n",
              "\n",
              "    .dataframe thead th {\n",
              "        text-align: right;\n",
              "    }\n",
              "</style>\n",
              "<table border=\"1\" class=\"dataframe\">\n",
              "  <thead>\n",
              "    <tr style=\"text-align: right;\">\n",
              "      <th></th>\n",
              "      <th>precipitation</th>\n",
              "      <th>temp_max</th>\n",
              "      <th>temp_min</th>\n",
              "      <th>wind</th>\n",
              "    </tr>\n",
              "  </thead>\n",
              "  <tbody>\n",
              "    <tr>\n",
              "      <th>count</th>\n",
              "      <td>1461.000000</td>\n",
              "      <td>1461.000000</td>\n",
              "      <td>1461.000000</td>\n",
              "      <td>1461.000000</td>\n",
              "    </tr>\n",
              "    <tr>\n",
              "      <th>mean</th>\n",
              "      <td>3.029432</td>\n",
              "      <td>16.439083</td>\n",
              "      <td>8.234771</td>\n",
              "      <td>3.241136</td>\n",
              "    </tr>\n",
              "    <tr>\n",
              "      <th>std</th>\n",
              "      <td>6.680194</td>\n",
              "      <td>7.349758</td>\n",
              "      <td>5.023004</td>\n",
              "      <td>1.437825</td>\n",
              "    </tr>\n",
              "    <tr>\n",
              "      <th>min</th>\n",
              "      <td>0.000000</td>\n",
              "      <td>-1.600000</td>\n",
              "      <td>-7.100000</td>\n",
              "      <td>0.400000</td>\n",
              "    </tr>\n",
              "    <tr>\n",
              "      <th>25%</th>\n",
              "      <td>0.000000</td>\n",
              "      <td>10.600000</td>\n",
              "      <td>4.400000</td>\n",
              "      <td>2.200000</td>\n",
              "    </tr>\n",
              "    <tr>\n",
              "      <th>50%</th>\n",
              "      <td>0.000000</td>\n",
              "      <td>15.600000</td>\n",
              "      <td>8.300000</td>\n",
              "      <td>3.000000</td>\n",
              "    </tr>\n",
              "    <tr>\n",
              "      <th>75%</th>\n",
              "      <td>2.800000</td>\n",
              "      <td>22.200000</td>\n",
              "      <td>12.200000</td>\n",
              "      <td>4.000000</td>\n",
              "    </tr>\n",
              "    <tr>\n",
              "      <th>max</th>\n",
              "      <td>55.900000</td>\n",
              "      <td>35.600000</td>\n",
              "      <td>18.300000</td>\n",
              "      <td>9.500000</td>\n",
              "    </tr>\n",
              "  </tbody>\n",
              "</table>\n",
              "</div>"
            ],
            "text/plain": [
              "       precipitation     temp_max     temp_min         wind\n",
              "count    1461.000000  1461.000000  1461.000000  1461.000000\n",
              "mean        3.029432    16.439083     8.234771     3.241136\n",
              "std         6.680194     7.349758     5.023004     1.437825\n",
              "min         0.000000    -1.600000    -7.100000     0.400000\n",
              "25%         0.000000    10.600000     4.400000     2.200000\n",
              "50%         0.000000    15.600000     8.300000     3.000000\n",
              "75%         2.800000    22.200000    12.200000     4.000000\n",
              "max        55.900000    35.600000    18.300000     9.500000"
            ]
          },
          "execution_count": 4,
          "metadata": {},
          "output_type": "execute_result"
        }
      ],
      "source": [
        "df.describe()"
      ]
    },
    {
      "cell_type": "code",
      "execution_count": null,
      "id": "06b3d20d",
      "metadata": {
        "id": "06b3d20d",
        "outputId": "d3054b00-0e3c-4164-9a0e-43474b68d214"
      },
      "outputs": [
        {
          "name": "stdout",
          "output_type": "stream",
          "text": [
            "<class 'pandas.core.frame.DataFrame'>\n",
            "RangeIndex: 1461 entries, 0 to 1460\n",
            "Data columns (total 6 columns):\n",
            "date             1461 non-null object\n",
            "precipitation    1461 non-null float64\n",
            "temp_max         1461 non-null float64\n",
            "temp_min         1461 non-null float64\n",
            "wind             1461 non-null float64\n",
            "weather          1461 non-null object\n",
            "dtypes: float64(4), object(2)\n",
            "memory usage: 68.6+ KB\n"
          ]
        }
      ],
      "source": [
        "df.info()"
      ]
    },
    {
      "cell_type": "code",
      "execution_count": null,
      "id": "89131273",
      "metadata": {
        "id": "89131273",
        "outputId": "abd4b815-d617-4ac6-b001-83af728eadc4"
      },
      "outputs": [
        {
          "data": {
            "text/plain": [
              "date             0\n",
              "precipitation    0\n",
              "temp_max         0\n",
              "temp_min         0\n",
              "wind             0\n",
              "weather          0\n",
              "dtype: int64"
            ]
          },
          "execution_count": 6,
          "metadata": {},
          "output_type": "execute_result"
        }
      ],
      "source": [
        "df.isnull().sum()"
      ]
    },
    {
      "cell_type": "code",
      "execution_count": null,
      "id": "99311c0f",
      "metadata": {
        "id": "99311c0f"
      },
      "outputs": [],
      "source": [
        "df['date']=pd.to_datetime(df['date'])"
      ]
    },
    {
      "cell_type": "code",
      "execution_count": null,
      "id": "904fcd16",
      "metadata": {
        "id": "904fcd16",
        "outputId": "c1e4185c-e66d-4d1b-b809-9b7fa78a503b"
      },
      "outputs": [
        {
          "data": {
            "text/plain": [
              "date             1461\n",
              "precipitation     111\n",
              "temp_max           67\n",
              "temp_min           55\n",
              "wind               79\n",
              "weather             5\n",
              "dtype: int64"
            ]
          },
          "execution_count": 8,
          "metadata": {},
          "output_type": "execute_result"
        }
      ],
      "source": [
        "df.nunique()"
      ]
    },
    {
      "cell_type": "code",
      "execution_count": null,
      "id": "b41021f8",
      "metadata": {
        "id": "b41021f8",
        "outputId": "afb7b99f-7fee-4d05-ca92-738d62912603"
      },
      "outputs": [
        {
          "data": {
            "text/html": [
              "<div>\n",
              "<style scoped>\n",
              "    .dataframe tbody tr th:only-of-type {\n",
              "        vertical-align: middle;\n",
              "    }\n",
              "\n",
              "    .dataframe tbody tr th {\n",
              "        vertical-align: top;\n",
              "    }\n",
              "\n",
              "    .dataframe thead th {\n",
              "        text-align: right;\n",
              "    }\n",
              "</style>\n",
              "<table border=\"1\" class=\"dataframe\">\n",
              "  <thead>\n",
              "    <tr style=\"text-align: right;\">\n",
              "      <th></th>\n",
              "      <th>date</th>\n",
              "      <th>precipitation</th>\n",
              "      <th>temp_max</th>\n",
              "      <th>temp_min</th>\n",
              "      <th>wind</th>\n",
              "      <th>weather</th>\n",
              "    </tr>\n",
              "  </thead>\n",
              "  <tbody>\n",
              "    <tr>\n",
              "      <th>0</th>\n",
              "      <td>2012-01-01</td>\n",
              "      <td>0.0</td>\n",
              "      <td>12.8</td>\n",
              "      <td>5.0</td>\n",
              "      <td>4.7</td>\n",
              "      <td>0</td>\n",
              "    </tr>\n",
              "    <tr>\n",
              "      <th>1</th>\n",
              "      <td>2012-01-02</td>\n",
              "      <td>10.9</td>\n",
              "      <td>10.6</td>\n",
              "      <td>2.8</td>\n",
              "      <td>4.5</td>\n",
              "      <td>2</td>\n",
              "    </tr>\n",
              "    <tr>\n",
              "      <th>2</th>\n",
              "      <td>2012-01-03</td>\n",
              "      <td>0.8</td>\n",
              "      <td>11.7</td>\n",
              "      <td>7.2</td>\n",
              "      <td>2.3</td>\n",
              "      <td>2</td>\n",
              "    </tr>\n",
              "    <tr>\n",
              "      <th>3</th>\n",
              "      <td>2012-01-04</td>\n",
              "      <td>20.3</td>\n",
              "      <td>12.2</td>\n",
              "      <td>5.6</td>\n",
              "      <td>4.7</td>\n",
              "      <td>2</td>\n",
              "    </tr>\n",
              "    <tr>\n",
              "      <th>4</th>\n",
              "      <td>2012-01-05</td>\n",
              "      <td>1.3</td>\n",
              "      <td>8.9</td>\n",
              "      <td>2.8</td>\n",
              "      <td>6.1</td>\n",
              "      <td>2</td>\n",
              "    </tr>\n",
              "    <tr>\n",
              "      <th>...</th>\n",
              "      <td>...</td>\n",
              "      <td>...</td>\n",
              "      <td>...</td>\n",
              "      <td>...</td>\n",
              "      <td>...</td>\n",
              "      <td>...</td>\n",
              "    </tr>\n",
              "    <tr>\n",
              "      <th>1456</th>\n",
              "      <td>2015-12-27</td>\n",
              "      <td>8.6</td>\n",
              "      <td>4.4</td>\n",
              "      <td>1.7</td>\n",
              "      <td>2.9</td>\n",
              "      <td>2</td>\n",
              "    </tr>\n",
              "    <tr>\n",
              "      <th>1457</th>\n",
              "      <td>2015-12-28</td>\n",
              "      <td>1.5</td>\n",
              "      <td>5.0</td>\n",
              "      <td>1.7</td>\n",
              "      <td>1.3</td>\n",
              "      <td>2</td>\n",
              "    </tr>\n",
              "    <tr>\n",
              "      <th>1458</th>\n",
              "      <td>2015-12-29</td>\n",
              "      <td>0.0</td>\n",
              "      <td>7.2</td>\n",
              "      <td>0.6</td>\n",
              "      <td>2.6</td>\n",
              "      <td>1</td>\n",
              "    </tr>\n",
              "    <tr>\n",
              "      <th>1459</th>\n",
              "      <td>2015-12-30</td>\n",
              "      <td>0.0</td>\n",
              "      <td>5.6</td>\n",
              "      <td>-1.0</td>\n",
              "      <td>3.4</td>\n",
              "      <td>4</td>\n",
              "    </tr>\n",
              "    <tr>\n",
              "      <th>1460</th>\n",
              "      <td>2015-12-31</td>\n",
              "      <td>0.0</td>\n",
              "      <td>5.6</td>\n",
              "      <td>-2.1</td>\n",
              "      <td>3.5</td>\n",
              "      <td>4</td>\n",
              "    </tr>\n",
              "  </tbody>\n",
              "</table>\n",
              "<p>1461 rows × 6 columns</p>\n",
              "</div>"
            ],
            "text/plain": [
              "           date  precipitation  temp_max  temp_min  wind  weather\n",
              "0    2012-01-01            0.0      12.8       5.0   4.7        0\n",
              "1    2012-01-02           10.9      10.6       2.8   4.5        2\n",
              "2    2012-01-03            0.8      11.7       7.2   2.3        2\n",
              "3    2012-01-04           20.3      12.2       5.6   4.7        2\n",
              "4    2012-01-05            1.3       8.9       2.8   6.1        2\n",
              "...         ...            ...       ...       ...   ...      ...\n",
              "1456 2015-12-27            8.6       4.4       1.7   2.9        2\n",
              "1457 2015-12-28            1.5       5.0       1.7   1.3        2\n",
              "1458 2015-12-29            0.0       7.2       0.6   2.6        1\n",
              "1459 2015-12-30            0.0       5.6      -1.0   3.4        4\n",
              "1460 2015-12-31            0.0       5.6      -2.1   3.5        4\n",
              "\n",
              "[1461 rows x 6 columns]"
            ]
          },
          "execution_count": 9,
          "metadata": {},
          "output_type": "execute_result"
        }
      ],
      "source": [
        "def LABEL_ENCODING(c1):\n",
        "    from sklearn import preprocessing\n",
        "    label_encoder = preprocessing.LabelEncoder()\n",
        "    df[c1]= label_encoder.fit_transform(df[c1])\n",
        "    df[c1].unique()\n",
        "LABEL_ENCODING(\"weather\")\n",
        "df"
      ]
    },
    {
      "cell_type": "code",
      "execution_count": null,
      "id": "c2a1047d",
      "metadata": {
        "id": "c2a1047d"
      },
      "outputs": [],
      "source": [
        "df = df.drop('date',axis=1)\n",
        "x = df.drop('weather',axis=1)\n",
        "y = df['weather']"
      ]
    },
    {
      "cell_type": "code",
      "execution_count": null,
      "id": "9899d4f1",
      "metadata": {
        "id": "9899d4f1"
      },
      "outputs": [],
      "source": [
        "from sklearn.model_selection import train_test_split\n",
        "X_train,X_test,y_train,y_test=train_test_split(x,y,test_size=0.25,random_state=0)"
      ]
    },
    {
      "cell_type": "code",
      "execution_count": null,
      "id": "333d41a1",
      "metadata": {
        "id": "333d41a1",
        "outputId": "03a77496-18a6-4f22-f813-41e29421bd9c"
      },
      "outputs": [
        {
          "data": {
            "text/plain": [
              "(1095, 4)"
            ]
          },
          "execution_count": 25,
          "metadata": {},
          "output_type": "execute_result"
        }
      ],
      "source": [
        "X_train.shape\n"
      ]
    },
    {
      "cell_type": "code",
      "execution_count": null,
      "id": "21987950",
      "metadata": {
        "id": "21987950",
        "outputId": "3de38ae9-7bf1-47c0-a5f4-72d1cb4b6751"
      },
      "outputs": [
        {
          "data": {
            "text/plain": [
              "(366, 4)"
            ]
          },
          "execution_count": 26,
          "metadata": {},
          "output_type": "execute_result"
        }
      ],
      "source": [
        "X_test.shape\n"
      ]
    },
    {
      "cell_type": "code",
      "execution_count": null,
      "id": "a2991f77",
      "metadata": {
        "id": "a2991f77",
        "outputId": "2ecf2298-cbc1-4ded-f29c-8756f1353f3a"
      },
      "outputs": [
        {
          "data": {
            "text/plain": [
              "(1095,)"
            ]
          },
          "execution_count": 27,
          "metadata": {},
          "output_type": "execute_result"
        }
      ],
      "source": [
        "y_train.shape\n"
      ]
    },
    {
      "cell_type": "code",
      "execution_count": null,
      "id": "f2c1cef7",
      "metadata": {
        "id": "f2c1cef7",
        "outputId": "c7398d28-9d71-4436-c0ce-d7c591b2f725"
      },
      "outputs": [
        {
          "data": {
            "text/plain": [
              "(366,)"
            ]
          },
          "execution_count": 28,
          "metadata": {},
          "output_type": "execute_result"
        }
      ],
      "source": [
        "y_test.shape"
      ]
    },
    {
      "cell_type": "code",
      "execution_count": null,
      "id": "910f2925",
      "metadata": {
        "id": "910f2925"
      },
      "outputs": [],
      "source": [
        "from sklearn.preprocessing import StandardScaler\n",
        "sc=StandardScaler()\n",
        "X_train=sc.fit_transform(X_train)\n",
        "X_test=sc.transform(X_test)"
      ]
    },
    {
      "cell_type": "code",
      "execution_count": null,
      "id": "eb683420",
      "metadata": {
        "id": "eb683420",
        "outputId": "c7f375f5-2be7-457b-ecc9-84f56d40b578"
      },
      "outputs": [
        {
          "data": {
            "text/plain": [
              "LogisticRegression(random_state=0)"
            ]
          },
          "execution_count": 30,
          "metadata": {},
          "output_type": "execute_result"
        }
      ],
      "source": [
        "#Logistic Regression\n",
        "\n",
        "classifier=LogisticRegression(random_state=0)\n",
        "classifier.fit(X_train,y_train)"
      ]
    },
    {
      "cell_type": "code",
      "execution_count": null,
      "id": "063d2e45",
      "metadata": {
        "id": "063d2e45",
        "outputId": "e04174a3-3f7f-4242-9838-813e1943f758"
      },
      "outputs": [
        {
          "data": {
            "text/plain": [
              "array([4, 2, 2, 4, 4, 2, 2, 2, 4, 4, 4, 2, 4, 4, 4, 4, 4, 2, 2, 2, 2, 2,\n",
              "       2, 4, 4, 4, 4, 2, 4, 4, 2, 4, 2, 2, 2, 2, 4, 2, 4, 2, 4, 2, 2, 2,\n",
              "       4, 4, 4, 4, 4, 4, 4, 4, 4, 2, 4, 4, 4, 2, 4, 2, 4, 4, 4, 4, 4, 2,\n",
              "       4, 4, 4, 2, 2, 2, 2, 4, 4, 4, 4, 4, 2, 4, 4, 4, 2, 2, 2, 4, 4, 2,\n",
              "       4, 4, 4, 4, 2, 4, 2, 2, 4, 4, 4, 4, 2, 2, 4, 2, 2, 4, 2, 2, 4, 4,\n",
              "       2, 4, 2, 4, 4, 4, 4, 2, 2, 2, 4, 2, 4, 4, 4, 4, 4, 4, 4, 2, 4, 2,\n",
              "       4, 2, 2, 2, 4, 2, 4, 4, 2, 2, 4, 4, 4, 4, 2, 4, 4, 4, 4, 4, 4, 2,\n",
              "       4, 2, 4, 4, 4, 4, 4, 2, 2, 2, 2, 2, 4, 2, 2, 2, 4, 4, 4, 4, 2, 2,\n",
              "       4, 4, 4, 4, 4, 4, 2, 4, 2, 4, 4, 2, 2, 4, 4, 4, 4, 4, 2, 2, 4, 2,\n",
              "       4, 4, 2, 2, 4, 4, 2, 4, 2, 4, 4, 2, 2, 2, 2, 2, 4, 4, 4, 2, 2, 2,\n",
              "       4, 4, 4, 2, 4, 4, 4, 4, 4, 4, 2, 2, 2, 2, 2, 4, 2, 4, 2, 2, 4, 2,\n",
              "       4, 2, 2, 4, 4, 4, 4, 4, 4, 4, 2, 2, 4, 4, 4, 4, 4, 4, 2, 2, 4, 4,\n",
              "       4, 2, 4, 2, 4, 2, 4, 4, 2, 2, 4, 4, 4, 4, 2, 4, 2, 2, 2, 4, 4, 4,\n",
              "       4, 4, 2, 4, 4, 2, 4, 2, 4, 2, 2, 4, 2, 4, 2, 4, 4, 4, 2, 4, 4, 2,\n",
              "       2, 4, 2, 4, 2, 2, 4, 4, 2, 2, 2, 4, 2, 4, 2, 2, 4, 4, 2, 2, 2, 4,\n",
              "       4, 2, 4, 4, 2, 2, 4, 4, 2, 4, 2, 4, 4, 2, 4, 2, 2, 2, 4, 2, 4, 4,\n",
              "       4, 4, 4, 4, 2, 2, 4, 4, 4, 2, 4, 2, 2, 4])"
            ]
          },
          "execution_count": 32,
          "metadata": {},
          "output_type": "execute_result"
        }
      ],
      "source": [
        "y_pred=classifier.predict(X_test)\n",
        "y_pred"
      ]
    },
    {
      "cell_type": "code",
      "execution_count": null,
      "id": "e7a9df5c",
      "metadata": {
        "id": "e7a9df5c",
        "outputId": "ca8a5c3e-e8ab-41d1-8fca-aa685634fb7c"
      },
      "outputs": [
        {
          "data": {
            "text/plain": [
              "array([[  0,   0,   0,   0,  11],\n",
              "       [  0,   0,   3,   0,  28],\n",
              "       [  0,   0, 130,   0,  25],\n",
              "       [  0,   0,   6,   0,   0],\n",
              "       [  0,   0,  14,   0, 149]], dtype=int64)"
            ]
          },
          "execution_count": 34,
          "metadata": {},
          "output_type": "execute_result"
        }
      ],
      "source": [
        "#Confusion Matrix\n",
        "cm=confusion_matrix(y_test,y_pred)\n",
        "cm"
      ]
    },
    {
      "cell_type": "code",
      "execution_count": null,
      "id": "225417f0",
      "metadata": {
        "id": "225417f0",
        "outputId": "0ceae827-fd91-4337-9c7f-b9d80bce7531"
      },
      "outputs": [
        {
          "name": "stdout",
          "output_type": "stream",
          "text": [
            "Accuracy_Score:0.7622950819672131\n"
          ]
        }
      ],
      "source": [
        "#Accuracy Score\n",
        "accuracy=accuracy_score(y_test,y_pred)\n",
        "print(f'Accuracy_Score:{accuracy}')"
      ]
    },
    {
      "cell_type": "code",
      "execution_count": null,
      "id": "5931befe",
      "metadata": {
        "id": "5931befe",
        "outputId": "ae48cf12-6d7b-46c0-f5a5-5d8ebb29cb2f"
      },
      "outputs": [
        {
          "data": {
            "text/plain": [
              "SVC(kernel='linear', random_state=0)"
            ]
          },
          "execution_count": 38,
          "metadata": {},
          "output_type": "execute_result"
        }
      ],
      "source": [
        "#SVM\n",
        "from sklearn.svm import SVC\n",
        "classifier=SVC(kernel='linear',random_state=0)\n",
        "classifier.fit(X_train,y_train)"
      ]
    },
    {
      "cell_type": "code",
      "execution_count": null,
      "id": "122f57a3",
      "metadata": {
        "id": "122f57a3"
      },
      "outputs": [],
      "source": [
        "y_pred=classifier.predict(X_test)"
      ]
    },
    {
      "cell_type": "code",
      "execution_count": null,
      "id": "c3a1d357",
      "metadata": {
        "id": "c3a1d357",
        "outputId": "6078054d-070c-4f1d-eb12-39e8ade772ec"
      },
      "outputs": [
        {
          "name": "stdout",
          "output_type": "stream",
          "text": [
            "[[  0   0   0   0  11]\n",
            " [  0   0   0   0  31]\n",
            " [  0   0 126   0  29]\n",
            " [  0   0   4   2   0]\n",
            " [  0   0   0   0 163]]\n"
          ]
        }
      ],
      "source": [
        "cm = confusion_matrix(y_test, y_pred)\n",
        "print(cm)\n",
        "accuracy2= accuracy_score(y_test, y_pred)"
      ]
    },
    {
      "cell_type": "code",
      "execution_count": null,
      "id": "5ca68205",
      "metadata": {
        "id": "5ca68205",
        "outputId": "c9ecf45d-d394-4e30-f262-91a05fd592bb"
      },
      "outputs": [
        {
          "name": "stdout",
          "output_type": "stream",
          "text": [
            "Accuracy_score: 0.7950819672131147\n"
          ]
        }
      ],
      "source": [
        "print(f\"Accuracy_score: {accuracy2}\")"
      ]
    },
    {
      "cell_type": "code",
      "execution_count": null,
      "id": "6270c9fb",
      "metadata": {
        "id": "6270c9fb",
        "outputId": "14a7914b-4015-4617-9e82-d5605c1c5e47"
      },
      "outputs": [
        {
          "data": {
            "text/plain": [
              "GaussianNB()"
            ]
          },
          "execution_count": 42,
          "metadata": {},
          "output_type": "execute_result"
        }
      ],
      "source": [
        "from sklearn.naive_bayes import GaussianNB\n",
        "classifier = GaussianNB()\n",
        "classifier.fit(X_train, y_train)"
      ]
    },
    {
      "cell_type": "code",
      "execution_count": null,
      "id": "1b145444",
      "metadata": {
        "id": "1b145444"
      },
      "outputs": [],
      "source": [
        "y_pred = classifier.predict(X_test)"
      ]
    },
    {
      "cell_type": "code",
      "execution_count": null,
      "id": "fcc62e54",
      "metadata": {
        "id": "fcc62e54",
        "outputId": "ea6f0b69-1e34-4d5e-a5e0-5ed5a4c474cc"
      },
      "outputs": [
        {
          "name": "stdout",
          "output_type": "stream",
          "text": [
            "[[  0   0   0   0  11]\n",
            " [  0   0   0   0  31]\n",
            " [  0   0 141   2  12]\n",
            " [  0   0   2   4   0]\n",
            " [  0   0   0   0 163]]\n"
          ]
        }
      ],
      "source": [
        "cm = confusion_matrix(y_test, y_pred)\n",
        "print(cm)"
      ]
    },
    {
      "cell_type": "code",
      "execution_count": null,
      "id": "b879c14b",
      "metadata": {
        "id": "b879c14b",
        "outputId": "a31e5878-2635-4af1-9b8c-3ec7299637b9"
      },
      "outputs": [
        {
          "name": "stdout",
          "output_type": "stream",
          "text": [
            "Accuracy score : 0.8415300546448088\n"
          ]
        }
      ],
      "source": [
        "acc3 = accuracy_score(y_test, y_pred)\n",
        "print(f\"Accuracy score : {acc3}\")"
      ]
    },
    {
      "cell_type": "code",
      "execution_count": null,
      "id": "5c6b1eb1",
      "metadata": {
        "id": "5c6b1eb1",
        "outputId": "304727c6-5909-4c6d-c4e8-095e761a356f"
      },
      "outputs": [
        {
          "data": {
            "text/plain": [
              "DecisionTreeClassifier(criterion='entropy', random_state=0)"
            ]
          },
          "execution_count": 46,
          "metadata": {},
          "output_type": "execute_result"
        }
      ],
      "source": [
        "classifier = DecisionTreeClassifier(criterion = 'entropy', random_state = 0)\n",
        "classifier.fit(X_train, y_train)"
      ]
    },
    {
      "cell_type": "code",
      "execution_count": null,
      "id": "7f278850",
      "metadata": {
        "id": "7f278850"
      },
      "outputs": [],
      "source": [
        "y_pred = classifier.predict(X_test)"
      ]
    },
    {
      "cell_type": "code",
      "execution_count": null,
      "id": "12c01d69",
      "metadata": {
        "id": "12c01d69",
        "outputId": "e724415d-c182-4899-b74f-bd1828d76fba"
      },
      "outputs": [
        {
          "data": {
            "text/plain": [
              "array([4, 0, 2, 4, 4, 2, 2, 2, 4, 2, 0, 2, 4, 1, 0, 4, 1, 2, 2, 2, 2, 2,\n",
              "       2, 4, 4, 0, 4, 2, 0, 4, 2, 4, 3, 2, 2, 2, 0, 2, 0, 2, 4, 2, 2, 2,\n",
              "       4, 0, 4, 4, 4, 4, 4, 4, 4, 2, 2, 4, 4, 3, 4, 2, 4, 4, 4, 1, 1, 2,\n",
              "       4, 1, 4, 2, 2, 3, 2, 0, 1, 4, 2, 0, 2, 2, 4, 4, 2, 2, 2, 4, 4, 2,\n",
              "       4, 2, 4, 1, 2, 1, 2, 3, 4, 0, 4, 4, 2, 2, 4, 2, 2, 2, 2, 2, 4, 4,\n",
              "       2, 4, 2, 4, 4, 4, 4, 4, 2, 2, 4, 2, 2, 1, 2, 4, 4, 0, 4, 2, 4, 2,\n",
              "       4, 2, 2, 2, 2, 4, 4, 4, 2, 3, 4, 4, 4, 2, 2, 4, 4, 4, 4, 1, 4, 2,\n",
              "       1, 2, 0, 4, 2, 4, 4, 0, 2, 1, 2, 2, 4, 2, 2, 2, 1, 1, 2, 4, 2, 2,\n",
              "       4, 4, 4, 4, 4, 4, 2, 1, 2, 1, 4, 2, 2, 4, 4, 4, 1, 4, 2, 2, 4, 0,\n",
              "       2, 4, 2, 2, 1, 4, 2, 2, 2, 4, 1, 1, 3, 2, 2, 2, 1, 4, 1, 2, 2, 2,\n",
              "       1, 4, 4, 2, 4, 4, 2, 4, 2, 0, 0, 2, 2, 2, 2, 1, 2, 4, 2, 2, 4, 2,\n",
              "       4, 2, 2, 0, 2, 4, 0, 4, 4, 4, 2, 3, 4, 4, 4, 4, 4, 4, 2, 1, 4, 4,\n",
              "       1, 2, 4, 2, 4, 1, 4, 4, 2, 2, 0, 1, 2, 4, 2, 4, 2, 2, 2, 0, 0, 4,\n",
              "       2, 4, 2, 2, 1, 2, 4, 2, 1, 2, 2, 4, 2, 4, 2, 4, 4, 4, 2, 4, 4, 2,\n",
              "       2, 4, 2, 0, 2, 2, 4, 1, 2, 2, 2, 0, 2, 1, 2, 2, 4, 4, 2, 2, 2, 4,\n",
              "       4, 2, 0, 4, 2, 4, 4, 4, 2, 2, 4, 4, 4, 2, 4, 4, 2, 2, 1, 2, 4, 4,\n",
              "       4, 4, 2, 4, 4, 2, 4, 4, 4, 2, 1, 2, 2, 4])"
            ]
          },
          "execution_count": 49,
          "metadata": {},
          "output_type": "execute_result"
        }
      ],
      "source": [
        "y_pred"
      ]
    },
    {
      "cell_type": "code",
      "execution_count": null,
      "id": "a72fca8a",
      "metadata": {
        "id": "a72fca8a",
        "outputId": "b3d5aec0-99db-4c72-b821-3e4bc3d9f85f"
      },
      "outputs": [
        {
          "name": "stdout",
          "output_type": "stream",
          "text": [
            "[[  1   2   1   0   7]\n",
            " [  6   8   1   0  16]\n",
            " [  0   1 140   4  10]\n",
            " [  0   0   3   3   0]\n",
            " [ 18  23   9   0 113]]\n"
          ]
        }
      ],
      "source": [
        "cm = confusion_matrix(y_test, y_pred)\n",
        "print(cm)"
      ]
    },
    {
      "cell_type": "code",
      "execution_count": null,
      "id": "e3607626",
      "metadata": {
        "id": "e3607626",
        "outputId": "9c4848d5-e5a5-4971-b6c1-28346c3f6e24"
      },
      "outputs": [
        {
          "name": "stdout",
          "output_type": "stream",
          "text": [
            "Accuracy score: 0.7240437158469946\n"
          ]
        }
      ],
      "source": [
        "acc4 = accuracy_score(y_test, y_pred)\n",
        "print(f\"Accuracy score: {acc4}\")"
      ]
    },
    {
      "cell_type": "code",
      "execution_count": null,
      "id": "0a9e6c23",
      "metadata": {
        "id": "0a9e6c23"
      },
      "outputs": [],
      "source": [
        "from sklearn.ensemble import RandomForestClassifier\n",
        "forest= RandomForestClassifier(n_estimators =40, random_state = 0)\n",
        "forest.fit(X_train,y_train)\n",
        "RandomForestClassifier(n_estimators=40, random_state=0)\n",
        "y_pred = forest.predict(X_test)\n",
        "cm = confusion_matrix(y_test,y_pred)"
      ]
    },
    {
      "cell_type": "code",
      "execution_count": null,
      "id": "ca50dc2f",
      "metadata": {
        "id": "ca50dc2f",
        "outputId": "de8f5853-d0fa-4d52-efa4-2bea4afe1392"
      },
      "outputs": [
        {
          "name": "stdout",
          "output_type": "stream",
          "text": [
            "              precision    recall  f1-score   support\n",
            "\n",
            "           0       0.00      0.00      0.00        11\n",
            "           1       0.25      0.13      0.17        31\n",
            "           2       0.95      0.93      0.94       155\n",
            "           3       1.00      0.17      0.29         6\n",
            "           4       0.75      0.87      0.81       163\n",
            "\n",
            "    accuracy                           0.80       366\n",
            "   macro avg       0.59      0.42      0.44       366\n",
            "weighted avg       0.77      0.80      0.78       366\n",
            "\n"
          ]
        }
      ],
      "source": [
        "from sklearn.metrics import classification_report\n",
        "print(classification_report(y_test,y_pred))"
      ]
    },
    {
      "cell_type": "code",
      "execution_count": null,
      "id": "e587e866",
      "metadata": {
        "id": "e587e866",
        "outputId": "e871098c-1d9c-4c63-e042-6a1dfac54e08"
      },
      "outputs": [
        {
          "name": "stdout",
          "output_type": "stream",
          "text": [
            "[[  1   2   1   0   7]\n",
            " [  6   8   1   0  16]\n",
            " [  0   1 140   4  10]\n",
            " [  0   0   3   3   0]\n",
            " [ 18  23   9   0 113]]\n"
          ]
        }
      ],
      "source": [
        "y_pred = classifier.predict(X_test)\n",
        "cm = confusion_matrix(y_test, y_pred)\n",
        "print(cm)\n",
        "acc5 = accuracy_score(y_test, y_pred)"
      ]
    },
    {
      "cell_type": "code",
      "execution_count": null,
      "id": "b82dbf3a",
      "metadata": {
        "id": "b82dbf3a",
        "outputId": "203edfa6-a5b9-4938-8198-bb21125cec2a"
      },
      "outputs": [
        {
          "name": "stdout",
          "output_type": "stream",
          "text": [
            "0.7240437158469946\n"
          ]
        }
      ],
      "source": [
        "print(acc5)"
      ]
    },
    {
      "cell_type": "code",
      "execution_count": null,
      "id": "15e24f4a",
      "metadata": {
        "id": "15e24f4a",
        "outputId": "0a5df55c-6223-4e46-8586-32487865eebb"
      },
      "outputs": [
        {
          "name": "stdout",
          "output_type": "stream",
          "text": [
            "Predicted Weather: Rain\n"
          ]
        }
      ],
      "source": [
        "def predict_weather(parameters):\n",
        "    user_data = pd.DataFrame(parameters, index=[0])\n",
        "\n",
        "    # Use the trained model to predict the weather\n",
        "    prediction = classifier.predict(user_data)\n",
        "    if prediction[0] == 0:\n",
        "        return \"No Rain\"\n",
        "    else:\n",
        "        return \"Rain\"\n",
        "\n",
        "# Example parameters (you can replace these with user input)\n",
        "user_parameters = {\n",
        "    'temp_max': 75,\n",
        "    'temp_min': 55,\n",
        "    'wind_speed_max': 10,\n",
        "    'precipitation': 0.1\n",
        "}\n",
        "# Predict the weather using user parameters\n",
        "predicted_weather = predict_weather(user_parameters)\n",
        "print(f\"Predicted Weather: {predicted_weather}\")"
      ]
    },
    {
      "cell_type": "code",
      "execution_count": null,
      "id": "d7b0f9cb",
      "metadata": {
        "id": "d7b0f9cb"
      },
      "outputs": [],
      "source": []
    }
  ],
  "metadata": {
    "kernelspec": {
      "display_name": "Python 3",
      "language": "python",
      "name": "python3"
    },
    "language_info": {
      "codemirror_mode": {
        "name": "ipython",
        "version": 3
      },
      "file_extension": ".py",
      "mimetype": "text/x-python",
      "name": "python",
      "nbconvert_exporter": "python",
      "pygments_lexer": "ipython3",
      "version": "3.6.8"
    },
    "colab": {
      "provenance": [],
      "include_colab_link": true
    }
  },
  "nbformat": 4,
  "nbformat_minor": 5
}